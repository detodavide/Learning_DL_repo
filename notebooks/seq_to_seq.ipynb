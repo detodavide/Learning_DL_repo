{
 "cells": [
  {
   "cell_type": "code",
   "execution_count": 1,
   "metadata": {},
   "outputs": [],
   "source": [
    "import os\n",
    "import sys\n",
    "\n",
    "current_dir = os.getcwd()\n",
    "parent_dir = os.path.abspath(os.path.join(current_dir, \"..\"))\n",
    "\n",
    "sys.path.append(parent_dir)"
   ]
  },
  {
   "cell_type": "code",
   "execution_count": 2,
   "metadata": {},
   "outputs": [],
   "source": [
    "import copy\n",
    "import numpy as np\n",
    "\n",
    "import torch\n",
    "import torch.optim as optim\n",
    "import torch.nn as nn\n",
    "import torch.nn.functional as F\n",
    "from torch.utils.data import DataLoader, Dataset, random_split, TensorDataset\n",
    "\n",
    "from generators.data_generation import generate_sequences\n",
    "from model_managers.GodoyStepByStep import StepByStep"
   ]
  },
  {
   "cell_type": "code",
   "execution_count": 3,
   "metadata": {},
   "outputs": [
    {
     "data": {
      "text/plain": [
       "(tensor([[[-1., -1.],\n",
       "          [-1.,  1.],\n",
       "          [ 1.,  1.],\n",
       "          [ 1., -1.]]]),\n",
       " torch.Size([1, 4, 2]))"
      ]
     },
     "execution_count": 3,
     "metadata": {},
     "output_type": "execute_result"
    }
   ],
   "source": [
    "# Create a sequence of points of a perfect square\n",
    "seq = (torch.tensor([[-1, -1], [-1, 1], [1, 1], [1, -1]]).float().view(1, 4 ,2))\n",
    "seq, seq.shape"
   ]
  },
  {
   "cell_type": "code",
   "execution_count": 4,
   "metadata": {},
   "outputs": [],
   "source": [
    "source_seq = seq[:, :2]\n",
    "target_seq = seq[:, 2:]"
   ]
  },
  {
   "cell_type": "code",
   "execution_count": 5,
   "metadata": {},
   "outputs": [
    {
     "data": {
      "text/plain": [
       "(tensor([[[-1., -1.],\n",
       "          [-1.,  1.]]]),\n",
       " tensor([[[ 1.,  1.],\n",
       "          [ 1., -1.]]]))"
      ]
     },
     "execution_count": 5,
     "metadata": {},
     "output_type": "execute_result"
    }
   ],
   "source": [
    "source_seq, target_seq"
   ]
  },
  {
   "cell_type": "code",
   "execution_count": 6,
   "metadata": {},
   "outputs": [],
   "source": [
    "from models.encoders.simple_encoder import EncoderV0\n",
    "from models.decoders.simple_decoder import DecoderV0"
   ]
  },
  {
   "cell_type": "code",
   "execution_count": 7,
   "metadata": {},
   "outputs": [
    {
     "data": {
      "text/plain": [
       "(torch.Size([1, 2, 2]), tensor([[[0.3739, 0.5657]]], grad_fn=<SliceBackward0>))"
      ]
     },
     "execution_count": 7,
     "metadata": {},
     "output_type": "execute_result"
    }
   ],
   "source": [
    "torch.manual_seed(18)\n",
    "encoder = EncoderV0(n_features=2, hidden_dim=2)\n",
    "hidden_seq = encoder(source_seq)\n",
    "hidden_final = hidden_seq[:, -1:]\n",
    "hidden_seq.shape, hidden_final\n",
    "\n",
    "# hidden_seq has 2 timesteps because my input is a sequence of length 2, so the last hidden_state is the output "
   ]
  },
  {
   "cell_type": "code",
   "execution_count": 8,
   "metadata": {},
   "outputs": [
    {
     "name": "stdout",
     "output_type": "stream",
     "text": [
      "Hidden: tensor([[[0.3739, 0.5657]]], grad_fn=<PermuteBackward0>)\n",
      "Output: tensor([[[-0.4316, -0.0251]]], grad_fn=<ViewBackward0>)\n",
      "\n",
      "Hidden: tensor([[[0.3407, 0.7289]]], grad_fn=<StackBackward0>)\n",
      "Output: tensor([[[-0.3913,  0.0825]]], grad_fn=<ViewBackward0>)\n",
      "\n"
     ]
    }
   ],
   "source": [
    "torch.manual_seed(18)\n",
    "decoder = DecoderV0(n_features=2, hidden_dim=2)\n",
    "decoder.init_hidden(hidden_seq)\n",
    "inputs = source_seq[:, -1:]\n",
    "\n",
    "target_len = 2\n",
    "for i in range(target_len):\n",
    "    print(f\"Hidden: {decoder.hidden}\")\n",
    "    out = decoder(inputs)\n",
    "    print(f\"Output: {out}\\n\")\n",
    "    inputs = out"
   ]
  },
  {
   "cell_type": "markdown",
   "metadata": {},
   "source": [
    "We got a model that is using its own prediction to predict the next token, this is not good. We have to find a way to train it from some ground truth."
   ]
  },
  {
   "cell_type": "markdown",
   "metadata": {},
   "source": [
    "## Teacher Forcing Technique"
   ]
  },
  {
   "cell_type": "markdown",
   "metadata": {},
   "source": [
    "Teacher forcing in sequence-to-sequence models uses the actual target outputs during training to guide the decoder's learning process. Instead of its own previously generated outputs, the decoder receives the correct target tokens at each time step. This approach stabilizes training, accelerates convergence, and helps the model learn the mapping from inputs to outputs more effectively, ensuring accurate sequence generation."
   ]
  },
  {
   "cell_type": "code",
   "execution_count": 9,
   "metadata": {},
   "outputs": [
    {
     "name": "stdout",
     "output_type": "stream",
     "text": [
      "Hidden: tensor([[[0.3739, 0.5657]]], grad_fn=<PermuteBackward0>)\n",
      "Output: tensor([[[-0.4316, -0.0251]]], grad_fn=<ViewBackward0>)\n",
      "\n",
      "Hidden: tensor([[[0.3407, 0.7289]]], grad_fn=<StackBackward0>)\n",
      "Output: tensor([[[-0.5107,  0.2540]]], grad_fn=<ViewBackward0>)\n",
      "\n"
     ]
    }
   ],
   "source": [
    "torch.manual_seed(18)\n",
    "decoder = DecoderV0(n_features=2, hidden_dim=2)\n",
    "decoder.init_hidden(hidden_seq)\n",
    "inputs = source_seq[:, -1:]\n",
    "\n",
    "target_len = 2\n",
    "for i in range(target_len):\n",
    "    print(f\"Hidden: {decoder.hidden}\")\n",
    "    out = decoder(inputs)\n",
    "    print(f\"Output: {out}\\n\")\n",
    "\n",
    "    # ignore predictions and use real data as input\n",
    "    inputs = target_seq[:, i:i+1]"
   ]
  },
  {
   "cell_type": "markdown",
   "metadata": {},
   "source": [
    "The problem with teacher forcing is that the model isnt robust, it doesnt generalize well on unseen data ( predictions generated by itself )."
   ]
  },
  {
   "cell_type": "code",
   "execution_count": 10,
   "metadata": {},
   "outputs": [
    {
     "name": "stdout",
     "output_type": "stream",
     "text": [
      "Hidden: tensor([[[0.3739, 0.5657]]], grad_fn=<PermuteBackward0>)\n",
      "Output: tensor([[[-0.4316, -0.0251]]], grad_fn=<ViewBackward0>)\n",
      "\n",
      "Hidden: tensor([[[0.3407, 0.7289]]], grad_fn=<StackBackward0>)\n",
      "Output: tensor([[[-0.5107,  0.2540]]], grad_fn=<ViewBackward0>)\n",
      "\n"
     ]
    }
   ],
   "source": [
    "# We can make it more robust using the teacher forcing and the normal way randomly every iteration.\n",
    "\n",
    "torch.manual_seed(18)\n",
    "decoder = DecoderV0(n_features=2, hidden_dim=2)\n",
    "decoder.init_hidden(hidden_seq)\n",
    "inputs = source_seq[:, -1:]\n",
    "\n",
    "target_len = 2\n",
    "teacher_force_prob = 0.5\n",
    "for i in range(target_len):\n",
    "    print(f\"Hidden: {decoder.hidden}\")\n",
    "    out = decoder(inputs)\n",
    "    print(f\"Output: {out}\\n\")\n",
    "\n",
    "    if torch.rand(1) <= teacher_force_prob:     \n",
    "        # ignore predictions and use real data as input\n",
    "        inputs = target_seq[:, i:i+1]\n",
    "    else:\n",
    "        inputs = out"
   ]
  },
  {
   "cell_type": "code",
   "execution_count": 11,
   "metadata": {},
   "outputs": [],
   "source": [
    "from models.enc_decs.simple_enc_dec import EncoderDecoderV0\n",
    "\n",
    "encdec = EncoderDecoderV0(encoder, decoder, input_len=2, target_len=2, teacher_forcing_prob=0.5)"
   ]
  },
  {
   "cell_type": "code",
   "execution_count": 12,
   "metadata": {},
   "outputs": [
    {
     "data": {
      "text/plain": [
       "tensor([[[-0.4316, -0.0251],\n",
       "         [-0.5107,  0.2540]]], grad_fn=<CopySlices>)"
      ]
     },
     "execution_count": 12,
     "metadata": {},
     "output_type": "execute_result"
    }
   ],
   "source": [
    "encdec.train() # this is the mode -> self.training = True\n",
    "encdec(seq)"
   ]
  },
  {
   "cell_type": "code",
   "execution_count": 13,
   "metadata": {},
   "outputs": [
    {
     "data": {
      "text/plain": [
       "tensor([[[-0.4316, -0.0251],\n",
       "         [-0.3913,  0.0825]]], grad_fn=<CopySlices>)"
      ]
     },
     "execution_count": 13,
     "metadata": {},
     "output_type": "execute_result"
    }
   ],
   "source": [
    "encdec.eval()\n",
    "encdec(source_seq)"
   ]
  },
  {
   "cell_type": "markdown",
   "metadata": {},
   "source": [
    "### Put all together"
   ]
  },
  {
   "cell_type": "code",
   "execution_count": 14,
   "metadata": {},
   "outputs": [],
   "source": [
    "from generators.data_generation import generate_sequences"
   ]
  },
  {
   "cell_type": "code",
   "execution_count": 15,
   "metadata": {},
   "outputs": [
    {
     "name": "stderr",
     "output_type": "stream",
     "text": [
      "/tmp/ipykernel_11676/2311727765.py:2: UserWarning: Creating a tensor from a list of numpy.ndarrays is extremely slow. Please consider converting the list to a single numpy.ndarray with numpy.array() before converting to a tensor. (Triggered internally at ../torch/csrc/utils/tensor_new.cpp:275.)\n",
      "  full_train = torch.as_tensor(points).float()\n"
     ]
    },
    {
     "data": {
      "text/plain": [
       "tensor([[[-0.8963, -1.1319],\n",
       "         [-1.0194,  1.0588]],\n",
       "\n",
       "        [[ 0.8617,  1.0233],\n",
       "         [ 1.0532, -1.1370]],\n",
       "\n",
       "        [[-0.8563, -1.0580],\n",
       "         [-1.0162,  1.1339]],\n",
       "\n",
       "        ...,\n",
       "\n",
       "        [[ 0.9665,  1.0629],\n",
       "         [ 0.9079, -1.0732]],\n",
       "\n",
       "        [[-0.9203, -1.0616],\n",
       "         [-0.9083,  0.9985]],\n",
       "\n",
       "        [[-1.0234, -0.9967],\n",
       "         [ 1.0440, -0.9607]]])"
      ]
     },
     "execution_count": 15,
     "metadata": {},
     "output_type": "execute_result"
    }
   ],
   "source": [
    "points, _ = generate_sequences(n=512, seed=13)\n",
    "full_train = torch.as_tensor(points).float()\n",
    "target_train = full_train[:, 2:]\n",
    "target_train"
   ]
  },
  {
   "cell_type": "code",
   "execution_count": 16,
   "metadata": {},
   "outputs": [],
   "source": [
    "test_points, _ = generate_sequences(seed=19)\n",
    "full_test = torch.as_tensor(test_points).float()\n",
    "source_test = full_test[:, :2]\n",
    "target_test = full_test[:, 2:]"
   ]
  },
  {
   "cell_type": "code",
   "execution_count": 17,
   "metadata": {},
   "outputs": [],
   "source": [
    "train_data = TensorDataset(full_train, target_train)\n",
    "test_data = TensorDataset(source_test, target_test)\n",
    "generator = torch.Generator()\n",
    "train_loader = DataLoader(train_data,batch_size=16,shuffle=True, generator=generator)\n",
    "test_loader = DataLoader(test_data, batch_size=16)"
   ]
  },
  {
   "cell_type": "code",
   "execution_count": 18,
   "metadata": {},
   "outputs": [],
   "source": [
    "torch.manual_seed(13)\n",
    "encoder = EncoderV0(n_features=2, hidden_dim=2)\n",
    "decoder = DecoderV0(n_features=2, hidden_dim=2)\n",
    "model = EncoderDecoderV0(encoder, decoder, input_len=2, target_len=2, teacher_forcing_prob=0.5)\n",
    "loss = nn.MSELoss()\n",
    "optimizer = optim.Adam(model.parameters(), lr=0.01)"
   ]
  },
  {
   "cell_type": "code",
   "execution_count": 19,
   "metadata": {},
   "outputs": [],
   "source": [
    "sbs = StepByStep(model, loss, optimizer)\n",
    "sbs.set_loaders(train_loader, test_loader)\n",
    "sbs.train(100)"
   ]
  },
  {
   "cell_type": "code",
   "execution_count": 20,
   "metadata": {},
   "outputs": [
    {
     "data": {
      "image/png": "[encoded data removed]",
      "text/plain": [
       "<Figure size 1000x400 with 1 Axes>"
      ]
     },
     "metadata": {},
     "output_type": "display_data"
    }
   ],
   "source": [
    "fig = sbs.plot_losses()"
   ]
  },
  {
   "cell_type": "code",
   "execution_count": null,
   "metadata": {},
   "outputs": [],
   "source": []
  }
 ],
 "metadata": {
  "kernelspec": {
   "display_name": "ldlenv",
   "language": "python",
   "name": "python3"
  },
  "language_info": {
   "codemirror_mode": {
    "name": "ipython",
    "version": 3
   },
   "file_extension": ".py",
   "mimetype": "text/x-python",
   "name": "python",
   "nbconvert_exporter": "python",
   "pygments_lexer": "ipython3",
   "version": "3.10.12"
  }
 },
 "nbformat": 4,
 "nbformat_minor": 2
}
